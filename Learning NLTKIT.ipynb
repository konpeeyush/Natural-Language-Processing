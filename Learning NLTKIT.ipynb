{
 "cells": [
  {
   "cell_type": "markdown",
   "id": "2140fbae",
   "metadata": {},
   "source": [
    "### Tokenization\n",
    "* Break a complex sentence into words\n",
    "* Understand the importance of each of the words with respect to the sentence\n",
    "* Produce a structural description of an input sentence\n"
   ]
  },
  {
   "cell_type": "markdown",
   "id": "fb120ae3",
   "metadata": {},
   "source": [
    "#### Download all the datasets "
   ]
  },
  {
   "cell_type": "markdown",
   "id": "d278f017",
   "metadata": {},
   "source": [
    "### What is a corpus?\n",
    "A corpus can be defined as a collection of text documents. It can be thought as just a bunch of text files in a directory, often alongside many other directories of text files.\n"
   ]
  },
  {
   "cell_type": "code",
   "execution_count": 2,
   "id": "5366e17b",
   "metadata": {
    "scrolled": true
   },
   "outputs": [
    {
     "ename": "NameError",
     "evalue": "name 'nltk' is not defined",
     "output_type": "error",
     "traceback": [
      "\u001b[0;31m---------------------------------------------------------------------------\u001b[0m",
      "\u001b[0;31mNameError\u001b[0m                                 Traceback (most recent call last)",
      "\u001b[0;32m/var/folders/67/8r6bhqg94q3_x96_rfhgms200000gn/T/ipykernel_94990/3129460392.py\u001b[0m in \u001b[0;36m<module>\u001b[0;34m\u001b[0m\n\u001b[0;32m----> 1\u001b[0;31m \u001b[0mnltk\u001b[0m\u001b[0;34m.\u001b[0m\u001b[0mdownload\u001b[0m\u001b[0;34m(\u001b[0m\u001b[0;34m\"all\"\u001b[0m\u001b[0;34m)\u001b[0m\u001b[0;34m\u001b[0m\u001b[0;34m\u001b[0m\u001b[0m\n\u001b[0m",
      "\u001b[0;31mNameError\u001b[0m: name 'nltk' is not defined"
     ]
    }
   ],
   "source": [
    "nltk.download(\"all\")"
   ]
  },
  {
   "cell_type": "markdown",
   "id": "ac39d877",
   "metadata": {},
   "source": [
    "#### Then import the contents"
   ]
  },
  {
   "cell_type": "code",
   "execution_count": 3,
   "id": "88b537d1",
   "metadata": {},
   "outputs": [],
   "source": [
    "import os\n",
    "import nltk\n",
    "import nltk.corpus"
   ]
  },
  {
   "cell_type": "code",
   "execution_count": 6,
   "id": "fc13c685",
   "metadata": {},
   "outputs": [
    {
     "name": "stdout",
     "output_type": "stream",
     "text": [
      "['unicode_samples', 'mte_teip5.zip', 'indian', 'stopwords', 'brown', 'swadesh', 'mac_morpho', 'conll2002.zip', 'indian.zip', 'abc', 'comparative_sentences', 'brown_tei.zip', 'cmudict.zip', 'conll2000.zip', 'universal_treebanks_v20.zip', 'words', 'pros_cons', 'omw-1.4.zip', 'udhr2', 'nonbreaking_prefixes.zip', 'lin_thesaurus', 'webtext', 'smultron.zip', 'names', 'sentiwordnet', 'dolch.zip', 'wordnet_ic.zip', 'brown.zip', 'alpino.zip', 'panlex_swadesh.zip', 'cmudict', 'pe08', 'sinica_treebank.zip', 'treebank.zip', 'ptb', 'inaugural', 'ppattach.zip', 'dependency_treebank.zip', 'opinion_lexicon.zip', 'cess_esp.zip', 'product_reviews_2', 'genesis.zip', 'reuters.zip', 'conll2007.zip', 'conll2002', 'comparative_sentences.zip', 'switchboard.zip', 'cess_cat.zip', 'udhr.zip', 'subjectivity.zip', 'pl196x.zip', 'ieer', 'problem_reports', 'timit.zip', 'floresta', 'paradigms.zip', 'gazetteers.zip', 'wordnet.zip', 'inaugural.zip', 'sinica_treebank', 'stopwords.zip', 'verbnet.zip', 'gutenberg', 'ieer.zip', 'ycoe.zip', 'shakespeare.zip', 'sentence_polarity', 'framenet_v17.zip', 'kimmo.zip', 'chat80.zip', 'kimmo', 'qc.zip', 'nonbreaking_prefixes', 'senseval', 'verbnet', 'udhr2.zip', 'senseval.zip', 'chat80', 'framenet_v15.zip', 'unicode_samples.zip', 'biocreative_ppi', 'framenet_v17', 'words.zip', 'pil', 'alpino', 'cess_cat', 'shakespeare', 'wordnet2021.zip', 'city_database', 'product_reviews_2.zip', 'abc.zip', 'europarl_raw', 'sentiwordnet.zip', 'rte.zip', 'movie_reviews', 'toolbox.zip', 'product_reviews_1.zip', 'omw.zip', 'jeita.zip', 'wordnet_ic', 'names.zip', 'conll2000', 'wordnet31.zip', 'extended_omw.zip', 'dependency_treebank', 'floresta.zip', 'nombank.1.0.zip', 'cess_esp', 'ptb.zip', 'mac_morpho.zip', 'knbc.zip', 'opinion_lexicon', 'toolbox', 'comtrans.zip', 'swadesh.zip', 'propbank.zip', 'mte_teip5', 'gutenberg.zip', 'product_reviews_1', 'twitter_samples.zip', 'treebank', 'state_union.zip', 'machado.zip', 'rte', 'nps_chat', 'crubadan', 'semcor.zip', 'biocreative_ppi.zip', 'ppattach', 'europarl_raw.zip', 'switchboard', 'brown_tei', 'verbnet3.zip', 'verbnet3', 'crubadan.zip', 'pe08.zip', 'pil.zip', 'ycoe', 'webtext.zip', 'sentence_polarity.zip', 'timit', 'pl196x', 'nps_chat.zip', 'state_union', 'city_database.zip', 'subjectivity', 'framenet_v15', 'masc_tagged.zip', 'paradigms', 'genesis', 'gazetteers', 'twitter_samples', 'qc', 'lin_thesaurus.zip', 'udhr', 'movie_reviews.zip', 'dolch', 'problem_reports.zip', 'smultron', 'pros_cons.zip']\n"
     ]
    }
   ],
   "source": [
    "print(os.listdir(nltk.data.find(\"corpora\")))"
   ]
  },
  {
   "cell_type": "code",
   "execution_count": 7,
   "id": "b2420202",
   "metadata": {},
   "outputs": [
    {
     "data": {
      "text/plain": [
       "['The', 'Fulton', 'County', 'Grand', 'Jury', 'said', ...]"
      ]
     },
     "execution_count": 7,
     "metadata": {},
     "output_type": "execute_result"
    }
   ],
   "source": [
    "from nltk.corpus import brown\n",
    "brown.words()"
   ]
  },
  {
   "cell_type": "code",
   "execution_count": 8,
   "id": "a88d557c",
   "metadata": {
    "scrolled": true
   },
   "outputs": [
    {
     "data": {
      "text/plain": [
       "['austen-emma.txt',\n",
       " 'austen-persuasion.txt',\n",
       " 'austen-sense.txt',\n",
       " 'bible-kjv.txt',\n",
       " 'blake-poems.txt',\n",
       " 'bryant-stories.txt',\n",
       " 'burgess-busterbrown.txt',\n",
       " 'carroll-alice.txt',\n",
       " 'chesterton-ball.txt',\n",
       " 'chesterton-brown.txt',\n",
       " 'chesterton-thursday.txt',\n",
       " 'edgeworth-parents.txt',\n",
       " 'melville-moby_dick.txt',\n",
       " 'milton-paradise.txt',\n",
       " 'shakespeare-caesar.txt',\n",
       " 'shakespeare-hamlet.txt',\n",
       " 'shakespeare-macbeth.txt',\n",
       " 'whitman-leaves.txt']"
      ]
     },
     "execution_count": 8,
     "metadata": {},
     "output_type": "execute_result"
    }
   ],
   "source": [
    "nltk.corpus.gutenberg.fileids()"
   ]
  },
  {
   "cell_type": "code",
   "execution_count": 9,
   "id": "81987a16",
   "metadata": {},
   "outputs": [
    {
     "data": {
      "text/plain": [
       "['[', 'The', 'Tragedie', 'of', 'Hamlet', 'by', ...]"
      ]
     },
     "execution_count": 9,
     "metadata": {},
     "output_type": "execute_result"
    }
   ],
   "source": [
    "hamlet=nltk.corpus.gutenberg.words('shakespeare-hamlet.txt')\n",
    "hamlet"
   ]
  },
  {
   "cell_type": "markdown",
   "id": "64ecf70d",
   "metadata": {},
   "source": [
    "#### If you want to print first 500 words of hamlet"
   ]
  },
  {
   "cell_type": "code",
   "execution_count": 56,
   "id": "f784534b",
   "metadata": {},
   "outputs": [
    {
     "name": "stdout",
     "output_type": "stream",
     "text": [
      "[ The Tragedie of Hamlet by William Shakespeare 1599 ] Actus Primus . Scoena Prima . Enter Barnardo and Francisco two Centinels . Barnardo . Who ' s there ? Fran . Nay answer me : Stand & vnfold your selfe Bar . Long liue the King Fran . Barnardo ? Bar . He Fran . You come most carefully vpon your houre Bar . ' Tis now strook twelue , get thee to bed Francisco Fran . For this releefe much thankes : ' Tis bitter cold , And I am sicke at heart Barn . Haue you had quiet Guard ? Fran . Not a Mouse stirring Barn . Well , goodnight . If you do meet Horatio and Marcellus , the Riuals of my Watch , bid them make hast . Enter Horatio and Marcellus . Fran . I thinke I heare them . Stand : who ' s there ? Hor . Friends to this ground Mar . And Leige - men to the Dane Fran . Giue you good night Mar . O farwel honest Soldier , who hath relieu ' d you ? Fra . Barnardo ha ' s my place : giue you goodnight . Exit Fran . Mar . Holla Barnardo Bar . Say , what is Horatio there ? Hor . A peece of him Bar . Welcome Horatio , welcome good Marcellus Mar . What , ha ' s this thing appear ' d againe to night Bar . I haue seene nothing Mar . Horatio saies , ' tis but our Fantasie , And will not let beleefe take hold of him Touching this dreaded sight , twice seene of vs , Therefore I haue intreated him along With vs , to watch the minutes of this Night , That if againe this Apparition come , He may approue our eyes , and speake to it Hor . Tush , tush , ' twill not appeare Bar . Sit downe a - while , And let vs once againe assaile your eares , That are so fortified against our Story , What we two Nights haue seene Hor . Well , sit we downe , And let vs heare Barnardo speake of this Barn . Last night of all , When yond same Starre that ' s Westward from the Pole Had made his course t ' illume that part of Heauen Where now it burnes , Marcellus and my selfe , The Bell then beating one Mar . Peace , breake thee of : Enter the Ghost . Looke where it comes againe Barn . In the same figure , like the King that ' s dead Mar . Thou art a Scholler ; speake to it Horatio Barn . Lookes it not like the King ? Marke it Horatio Hora . Most like : It harrowes me with fear & wonder Barn . It would be spoke too Mar . Question it Horatio Hor . What art "
     ]
    },
    {
     "data": {
      "text/plain": [
       "559"
      ]
     },
     "execution_count": 56,
     "metadata": {},
     "output_type": "execute_result"
    }
   ],
   "source": [
    "for word in hamlet[:500]:\n",
    "     print(word,sep=\" \",end=\" \")\n",
    "e=dir(nltk)\n",
    "len(e)"
   ]
  },
  {
   "cell_type": "markdown",
   "id": "f6b8364b",
   "metadata": {},
   "source": [
    "### Lets initialize a paragraph and extract its tokens"
   ]
  },
  {
   "cell_type": "code",
   "execution_count": 5,
   "id": "86e643b8",
   "metadata": {},
   "outputs": [],
   "source": [
    "swami='''\n",
    "Born into an aristocratic Bengali Kayastha family of Calcutta,\n",
    "Vivekananda was inclined towards spirituality.\n",
    "\n",
    "He was influenced by his guru, Ramakrishna, from whom he learnt that\n",
    "all living beings were an embodiment of the divine self; therefore,\n",
    "service to God could be rendered by service to humankind.\n",
    "After Ramakrishna's death, Vivekananda toured the Indian subcontinent extensively and\n",
    "acquired first-hand knowledge of the conditions prevailing in British India.\n",
    "\n",
    "He later traveled to the United States, representing India at the 1893\n",
    "Parliament of the World's Religions. Vivekananda conducted hundreds of\n",
    "public and private lectures and classes, disseminating tenets of Hindu\n",
    "philosophy in the United States, England and Europe.\n",
    "\n",
    "In India, Vivekananda is regarded as a patriotic saint, and his birthday is celebrated as National Youth Day.'''"
   ]
  },
  {
   "cell_type": "code",
   "execution_count": 6,
   "id": "29e24882",
   "metadata": {},
   "outputs": [
    {
     "data": {
      "text/plain": [
       "str"
      ]
     },
     "execution_count": 6,
     "metadata": {},
     "output_type": "execute_result"
    }
   ],
   "source": [
    "type(swami)"
   ]
  },
  {
   "cell_type": "code",
   "execution_count": 7,
   "id": "4b3c5b39",
   "metadata": {},
   "outputs": [],
   "source": [
    "from nltk.tokenize import word_tokenize"
   ]
  },
  {
   "cell_type": "code",
   "execution_count": 8,
   "id": "e3c7947d",
   "metadata": {},
   "outputs": [
    {
     "data": {
      "text/plain": [
       "['Born',\n",
       " 'into',\n",
       " 'an',\n",
       " 'aristocratic',\n",
       " 'Bengali',\n",
       " 'Kayastha',\n",
       " 'family',\n",
       " 'of',\n",
       " 'Calcutta',\n",
       " ',',\n",
       " 'Vivekananda',\n",
       " 'was',\n",
       " 'inclined',\n",
       " 'towards',\n",
       " 'spirituality',\n",
       " '.',\n",
       " 'He',\n",
       " 'was',\n",
       " 'influenced',\n",
       " 'by',\n",
       " 'his',\n",
       " 'guru',\n",
       " ',',\n",
       " 'Ramakrishna',\n",
       " ',',\n",
       " 'from',\n",
       " 'whom',\n",
       " 'he',\n",
       " 'learnt',\n",
       " 'that',\n",
       " 'all',\n",
       " 'living',\n",
       " 'beings',\n",
       " 'were',\n",
       " 'an',\n",
       " 'embodiment',\n",
       " 'of',\n",
       " 'the',\n",
       " 'divine',\n",
       " 'self',\n",
       " ';',\n",
       " 'therefore',\n",
       " ',',\n",
       " 'service',\n",
       " 'to',\n",
       " 'God',\n",
       " 'could',\n",
       " 'be',\n",
       " 'rendered',\n",
       " 'by',\n",
       " 'service',\n",
       " 'to',\n",
       " 'humankind',\n",
       " '.',\n",
       " 'After',\n",
       " 'Ramakrishna',\n",
       " \"'s\",\n",
       " 'death',\n",
       " ',',\n",
       " 'Vivekananda',\n",
       " 'toured',\n",
       " 'the',\n",
       " 'Indian',\n",
       " 'subcontinent',\n",
       " 'extensively',\n",
       " 'and',\n",
       " 'acquired',\n",
       " 'first-hand',\n",
       " 'knowledge',\n",
       " 'of',\n",
       " 'the',\n",
       " 'conditions',\n",
       " 'prevailing',\n",
       " 'in',\n",
       " 'British',\n",
       " 'India',\n",
       " '.',\n",
       " 'He',\n",
       " 'later',\n",
       " 'traveled',\n",
       " 'to',\n",
       " 'the',\n",
       " 'United',\n",
       " 'States',\n",
       " ',',\n",
       " 'representing',\n",
       " 'India',\n",
       " 'at',\n",
       " 'the',\n",
       " '1893',\n",
       " 'Parliament',\n",
       " 'of',\n",
       " 'the',\n",
       " 'World',\n",
       " \"'s\",\n",
       " 'Religions',\n",
       " '.',\n",
       " 'Vivekananda',\n",
       " 'conducted',\n",
       " 'hundreds',\n",
       " 'of',\n",
       " 'public',\n",
       " 'and',\n",
       " 'private',\n",
       " 'lectures',\n",
       " 'and',\n",
       " 'classes',\n",
       " ',',\n",
       " 'disseminating',\n",
       " 'tenets',\n",
       " 'of',\n",
       " 'Hindu',\n",
       " 'philosophy',\n",
       " 'in',\n",
       " 'the',\n",
       " 'United',\n",
       " 'States',\n",
       " ',',\n",
       " 'England',\n",
       " 'and',\n",
       " 'Europe',\n",
       " '.',\n",
       " 'In',\n",
       " 'India',\n",
       " ',',\n",
       " 'Vivekananda',\n",
       " 'is',\n",
       " 'regarded',\n",
       " 'as',\n",
       " 'a',\n",
       " 'patriotic',\n",
       " 'saint',\n",
       " ',',\n",
       " 'and',\n",
       " 'his',\n",
       " 'birthday',\n",
       " 'is',\n",
       " 'celebrated',\n",
       " 'as',\n",
       " 'National',\n",
       " 'Youth',\n",
       " 'Day',\n",
       " '.']"
      ]
     },
     "execution_count": 8,
     "metadata": {},
     "output_type": "execute_result"
    }
   ],
   "source": [
    "swami_tokens=word_tokenize(swami)\n",
    "swami_tokens"
   ]
  },
  {
   "cell_type": "code",
   "execution_count": 9,
   "id": "195bcdd9",
   "metadata": {},
   "outputs": [
    {
     "data": {
      "text/plain": [
       "143"
      ]
     },
     "execution_count": 9,
     "metadata": {},
     "output_type": "execute_result"
    }
   ],
   "source": [
    "len(swami_tokens)"
   ]
  },
  {
   "cell_type": "markdown",
   "id": "581a7b21",
   "metadata": {},
   "source": [
    "#### Count the frequecy of the characters"
   ]
  },
  {
   "cell_type": "code",
   "execution_count": 10,
   "id": "20e6d742",
   "metadata": {},
   "outputs": [],
   "source": [
    "from nltk.probability import FreqDist\n",
    "fdist=FreqDist()"
   ]
  },
  {
   "cell_type": "code",
   "execution_count": 11,
   "id": "1f203bfc",
   "metadata": {},
   "outputs": [
    {
     "data": {
      "text/plain": [
       "FreqDist({',': 10, 'the': 7, 'of': 6, '.': 6, 'and': 5, 'vivekananda': 4, 'he': 3, 'to': 3, 'in': 3, 'india': 3, ...})"
      ]
     },
     "execution_count": 11,
     "metadata": {},
     "output_type": "execute_result"
    }
   ],
   "source": [
    "for word in swami_tokens:\n",
    "    fdist[word.lower()]+=1"
   ]
  },
  {
   "cell_type": "code",
   "execution_count": 20,
   "id": "2e9e4cbc",
   "metadata": {},
   "outputs": [
    {
     "data": {
      "text/plain": [
       "FreqDist({',': 10, 'the': 7, 'of': 6, '.': 6, 'and': 5, 'vivekananda': 4, 'he': 3, 'to': 3, 'in': 3, 'india': 3, ...})"
      ]
     },
     "execution_count": 20,
     "metadata": {},
     "output_type": "execute_result"
    }
   ],
   "source": [
    "fdist"
   ]
  },
  {
   "cell_type": "code",
   "execution_count": 12,
   "id": "17dd8494",
   "metadata": {},
   "outputs": [
    {
     "data": {
      "text/plain": [
       "4"
      ]
     },
     "execution_count": 12,
     "metadata": {},
     "output_type": "execute_result"
    }
   ],
   "source": [
    "fdist['vivekananda']"
   ]
  },
  {
   "cell_type": "code",
   "execution_count": 13,
   "id": "f8db0acd",
   "metadata": {},
   "outputs": [
    {
     "data": {
      "text/plain": [
       "92"
      ]
     },
     "execution_count": 13,
     "metadata": {},
     "output_type": "execute_result"
    }
   ],
   "source": [
    "len(fdist)"
   ]
  },
  {
   "cell_type": "markdown",
   "id": "34db4255",
   "metadata": {},
   "source": [
    "#### If most_common tokens required "
   ]
  },
  {
   "cell_type": "code",
   "execution_count": 18,
   "id": "86fca21b",
   "metadata": {},
   "outputs": [
    {
     "data": {
      "text/plain": [
       "[('europe', 1),\n",
       " ('regarded', 1),\n",
       " ('a', 1),\n",
       " ('patriotic', 1),\n",
       " ('saint', 1),\n",
       " ('birthday', 1),\n",
       " ('celebrated', 1),\n",
       " ('national', 1),\n",
       " ('youth', 1),\n",
       " ('day', 1)]"
      ]
     },
     "execution_count": 18,
     "metadata": {},
     "output_type": "execute_result"
    }
   ],
   "source": [
    "fdist_top10=fdist.most_common()[-10:] #for least common\n",
    "fdist_top10"
   ]
  },
  {
   "cell_type": "markdown",
   "id": "1fef7718",
   "metadata": {},
   "source": [
    "#### To find number of blank lines(new lines), can be used to extract a particular paragraph"
   ]
  },
  {
   "cell_type": "code",
   "execution_count": 67,
   "id": "1cb90f48",
   "metadata": {},
   "outputs": [
    {
     "data": {
      "text/plain": [
       "4"
      ]
     },
     "execution_count": 67,
     "metadata": {},
     "output_type": "execute_result"
    }
   ],
   "source": [
    "from nltk.tokenize import blankline_tokenize\n",
    "swami_blank=blankline_tokenize(swami)\n",
    "len(swami_blank)"
   ]
  },
  {
   "cell_type": "code",
   "execution_count": 68,
   "id": "941ed44d",
   "metadata": {},
   "outputs": [
    {
     "data": {
      "text/plain": [
       "'In India, Vivekananda is regarded as a patriotic saint, and his birthday is celebrated as National Youth Day.'"
      ]
     },
     "execution_count": 68,
     "metadata": {},
     "output_type": "execute_result"
    }
   ],
   "source": [
    "swami_blank[3]"
   ]
  },
  {
   "cell_type": "markdown",
   "id": "6fef8c3b",
   "metadata": {},
   "source": [
    "* Birgrams - Tokens of two consecutive written words known as bigrams.\n",
    "* Trigrams - Tokens of three consecutive written words known as trigrams.\n",
    "* Ngrams - Tokens of any number of consecutive written words known as Ngram"
   ]
  },
  {
   "cell_type": "code",
   "execution_count": 21,
   "id": "0a7c1162",
   "metadata": {},
   "outputs": [],
   "source": [
    "from nltk.util import bigrams, trigrams, ngrams"
   ]
  },
  {
   "cell_type": "code",
   "execution_count": 22,
   "id": "d7e14dac",
   "metadata": {},
   "outputs": [
    {
     "data": {
      "text/plain": [
       "['I',\n",
       " 'think',\n",
       " 'it',\n",
       " \"'s\",\n",
       " 'very',\n",
       " 'important',\n",
       " 'to',\n",
       " 'have',\n",
       " 'a',\n",
       " 'feedback',\n",
       " 'loop',\n",
       " ',',\n",
       " 'where',\n",
       " 'you',\n",
       " \"'re\",\n",
       " 'constantly',\n",
       " 'thinking',\n",
       " 'about',\n",
       " 'what',\n",
       " \"you've\",\n",
       " 'done',\n",
       " 'and',\n",
       " 'how',\n",
       " 'you',\n",
       " 'could',\n",
       " 'be',\n",
       " 'doing',\n",
       " 'it',\n",
       " 'better',\n",
       " '.',\n",
       " 'I',\n",
       " 'think',\n",
       " \"that's\",\n",
       " 'the',\n",
       " 'single',\n",
       " 'best',\n",
       " 'piece',\n",
       " 'of',\n",
       " 'advice',\n",
       " ':',\n",
       " 'constantly',\n",
       " 'think',\n",
       " 'about',\n",
       " 'how',\n",
       " 'you',\n",
       " 'could',\n",
       " 'be',\n",
       " 'doing',\n",
       " 'things',\n",
       " 'better',\n",
       " 'and',\n",
       " 'questioning',\n",
       " 'yourself']"
      ]
     },
     "execution_count": 22,
     "metadata": {},
     "output_type": "execute_result"
    }
   ],
   "source": [
    "string='''I think it's very important to have a feedback loop,\n",
    "where you're constantly thinking about what you've\n",
    "done and how you could be doing it better. I think that's\n",
    "the single best piece of advice: constantly think about how you\n",
    "could be doing things better and questioning yourself'''\n",
    "quotes_tokens=nltk.word_tokenize(string)\n",
    "quotes_tokens"
   ]
  },
  {
   "cell_type": "code",
   "execution_count": 25,
   "id": "f65c1c15",
   "metadata": {},
   "outputs": [
    {
     "data": {
      "text/plain": [
       "[('I', 'think', 'it', \"'s\", 'very'),\n",
       " ('think', 'it', \"'s\", 'very', 'important'),\n",
       " ('it', \"'s\", 'very', 'important', 'to'),\n",
       " (\"'s\", 'very', 'important', 'to', 'have'),\n",
       " ('very', 'important', 'to', 'have', 'a'),\n",
       " ('important', 'to', 'have', 'a', 'feedback'),\n",
       " ('to', 'have', 'a', 'feedback', 'loop'),\n",
       " ('have', 'a', 'feedback', 'loop', ','),\n",
       " ('a', 'feedback', 'loop', ',', 'where'),\n",
       " ('feedback', 'loop', ',', 'where', 'you'),\n",
       " ('loop', ',', 'where', 'you', \"'re\"),\n",
       " (',', 'where', 'you', \"'re\", 'constantly'),\n",
       " ('where', 'you', \"'re\", 'constantly', 'thinking'),\n",
       " ('you', \"'re\", 'constantly', 'thinking', 'about'),\n",
       " (\"'re\", 'constantly', 'thinking', 'about', 'what'),\n",
       " ('constantly', 'thinking', 'about', 'what', \"you've\"),\n",
       " ('thinking', 'about', 'what', \"you've\", 'done'),\n",
       " ('about', 'what', \"you've\", 'done', 'and'),\n",
       " ('what', \"you've\", 'done', 'and', 'how'),\n",
       " (\"you've\", 'done', 'and', 'how', 'you'),\n",
       " ('done', 'and', 'how', 'you', 'could'),\n",
       " ('and', 'how', 'you', 'could', 'be'),\n",
       " ('how', 'you', 'could', 'be', 'doing'),\n",
       " ('you', 'could', 'be', 'doing', 'it'),\n",
       " ('could', 'be', 'doing', 'it', 'better'),\n",
       " ('be', 'doing', 'it', 'better', '.'),\n",
       " ('doing', 'it', 'better', '.', 'I'),\n",
       " ('it', 'better', '.', 'I', 'think'),\n",
       " ('better', '.', 'I', 'think', \"that's\"),\n",
       " ('.', 'I', 'think', \"that's\", 'the'),\n",
       " ('I', 'think', \"that's\", 'the', 'single'),\n",
       " ('think', \"that's\", 'the', 'single', 'best'),\n",
       " (\"that's\", 'the', 'single', 'best', 'piece'),\n",
       " ('the', 'single', 'best', 'piece', 'of'),\n",
       " ('single', 'best', 'piece', 'of', 'advice'),\n",
       " ('best', 'piece', 'of', 'advice', ':'),\n",
       " ('piece', 'of', 'advice', ':', 'constantly'),\n",
       " ('of', 'advice', ':', 'constantly', 'think'),\n",
       " ('advice', ':', 'constantly', 'think', 'about'),\n",
       " (':', 'constantly', 'think', 'about', 'how'),\n",
       " ('constantly', 'think', 'about', 'how', 'you'),\n",
       " ('think', 'about', 'how', 'you', 'could'),\n",
       " ('about', 'how', 'you', 'could', 'be'),\n",
       " ('how', 'you', 'could', 'be', 'doing'),\n",
       " ('you', 'could', 'be', 'doing', 'things'),\n",
       " ('could', 'be', 'doing', 'things', 'better'),\n",
       " ('be', 'doing', 'things', 'better', 'and'),\n",
       " ('doing', 'things', 'better', 'and', 'questioning'),\n",
       " ('things', 'better', 'and', 'questioning', 'yourself')]"
      ]
     },
     "execution_count": 25,
     "metadata": {},
     "output_type": "execute_result"
    }
   ],
   "source": [
    "quotes_bigrams=list(nltk.ngrams(quotes_tokens,5))\n",
    "quotes_bigrams                    "
   ]
  },
  {
   "cell_type": "markdown",
   "id": "30859159",
   "metadata": {},
   "source": [
    "> Similarly trigrams and ngrams can be used"
   ]
  },
  {
   "cell_type": "markdown",
   "id": "f1b85064",
   "metadata": {},
   "source": [
    "### Stemming\n",
    "Normalize words into its base form is called stemming."
   ]
  },
  {
   "cell_type": "code",
   "execution_count": 26,
   "id": "24dc0ec6",
   "metadata": {},
   "outputs": [],
   "source": [
    "from nltk.stem import PorterStemmer\n",
    "pst=PorterStemmer()"
   ]
  },
  {
   "cell_type": "code",
   "execution_count": 27,
   "id": "fa3130a5",
   "metadata": {},
   "outputs": [
    {
     "data": {
      "text/plain": [
       "'have'"
      ]
     },
     "execution_count": 27,
     "metadata": {},
     "output_type": "execute_result"
    }
   ],
   "source": [
    "pst.stem(\"having\")"
   ]
  },
  {
   "cell_type": "code",
   "execution_count": 28,
   "id": "d1ef4de6",
   "metadata": {},
   "outputs": [
    {
     "name": "stdout",
     "output_type": "stream",
     "text": [
      "give: give\n",
      "giving: give\n",
      "given: given\n",
      "gave: gave\n"
     ]
    }
   ],
   "source": [
    "words_to_stem=[\"give\",\"giving\",\"given\",\"gave\"]\n",
    "for words in words_to_stem:\n",
    "    print(words+\": \"+pst.stem(words))"
   ]
  },
  {
   "cell_type": "markdown",
   "id": "f5178fff",
   "metadata": {},
   "source": [
    "> Replaces -ing with -e"
   ]
  },
  {
   "cell_type": "code",
   "execution_count": 29,
   "id": "2bbfbc4f",
   "metadata": {},
   "outputs": [
    {
     "name": "stdout",
     "output_type": "stream",
     "text": [
      "give:giv\n",
      "giving:giv\n",
      "given:giv\n",
      "gave:gav\n"
     ]
    }
   ],
   "source": [
    "from nltk.stem import LancasterStemmer\n",
    "lst=LancasterStemmer()\n",
    "for words in words_to_stem:\n",
    "    print(words+\":\"+lst.stem(words))"
   ]
  },
  {
   "cell_type": "code",
   "execution_count": 30,
   "id": "59a51bf6",
   "metadata": {},
   "outputs": [],
   "source": [
    "from nltk.stem import SnowballStemmer\n",
    "sbst=SnowballStemmer('english')"
   ]
  },
  {
   "cell_type": "code",
   "execution_count": 31,
   "id": "995aa702",
   "metadata": {},
   "outputs": [
    {
     "name": "stdout",
     "output_type": "stream",
     "text": [
      "give:give\n",
      "giving:give\n",
      "given:given\n",
      "gave:gave\n"
     ]
    }
   ],
   "source": [
    "for words in words_to_stem:\n",
    "    print(words+\":\"+sbst.stem(words))"
   ]
  },
  {
   "cell_type": "markdown",
   "id": "5c0fd11d",
   "metadata": {},
   "source": [
    "### Lemmatization\n",
    "- Groups together different inflected forms of a word, called Lemma.\n",
    "- Somehow similar to Stemming, as it maps several words into one common root\n",
    "- Output of Lemmatisation is a proper word"
   ]
  },
  {
   "cell_type": "code",
   "execution_count": 32,
   "id": "a7f5a26c",
   "metadata": {
    "scrolled": true
   },
   "outputs": [],
   "source": [
    "from nltk.stem import wordnet\n",
    "from nltk.stem import WordNetLemmatizer\n",
    "word_lem=WordNetLemmatizer()"
   ]
  },
  {
   "cell_type": "code",
   "execution_count": 33,
   "id": "23bb1ac6",
   "metadata": {},
   "outputs": [
    {
     "data": {
      "text/plain": [
       "'corpus'"
      ]
     },
     "execution_count": 33,
     "metadata": {},
     "output_type": "execute_result"
    }
   ],
   "source": [
    "word_lem.lemmatize('corpora')"
   ]
  },
  {
   "cell_type": "code",
   "execution_count": 34,
   "id": "2a51a2bb",
   "metadata": {},
   "outputs": [
    {
     "name": "stdout",
     "output_type": "stream",
     "text": [
      "give:give\n",
      "giving:giving\n",
      "given:given\n",
      "gave:gave\n"
     ]
    }
   ],
   "source": [
    "for words in words_to_stem:\n",
    "    print(words+\":\"+word_lem.lemmatize(words))"
   ]
  },
  {
   "cell_type": "code",
   "execution_count": 35,
   "id": "bb31ae82",
   "metadata": {},
   "outputs": [],
   "source": [
    "from nltk.corpus import stopwords"
   ]
  },
  {
   "cell_type": "code",
   "execution_count": 36,
   "id": "06792a8f",
   "metadata": {},
   "outputs": [
    {
     "data": {
      "text/plain": [
       "['i',\n",
       " 'me',\n",
       " 'my',\n",
       " 'myself',\n",
       " 'we',\n",
       " 'our',\n",
       " 'ours',\n",
       " 'ourselves',\n",
       " 'you',\n",
       " \"you're\",\n",
       " \"you've\",\n",
       " \"you'll\",\n",
       " \"you'd\",\n",
       " 'your',\n",
       " 'yours',\n",
       " 'yourself',\n",
       " 'yourselves',\n",
       " 'he',\n",
       " 'him',\n",
       " 'his',\n",
       " 'himself',\n",
       " 'she',\n",
       " \"she's\",\n",
       " 'her',\n",
       " 'hers',\n",
       " 'herself',\n",
       " 'it',\n",
       " \"it's\",\n",
       " 'its',\n",
       " 'itself',\n",
       " 'they',\n",
       " 'them',\n",
       " 'their',\n",
       " 'theirs',\n",
       " 'themselves',\n",
       " 'what',\n",
       " 'which',\n",
       " 'who',\n",
       " 'whom',\n",
       " 'this',\n",
       " 'that',\n",
       " \"that'll\",\n",
       " 'these',\n",
       " 'those',\n",
       " 'am',\n",
       " 'is',\n",
       " 'are',\n",
       " 'was',\n",
       " 'were',\n",
       " 'be',\n",
       " 'been',\n",
       " 'being',\n",
       " 'have',\n",
       " 'has',\n",
       " 'had',\n",
       " 'having',\n",
       " 'do',\n",
       " 'does',\n",
       " 'did',\n",
       " 'doing',\n",
       " 'a',\n",
       " 'an',\n",
       " 'the',\n",
       " 'and',\n",
       " 'but',\n",
       " 'if',\n",
       " 'or',\n",
       " 'because',\n",
       " 'as',\n",
       " 'until',\n",
       " 'while',\n",
       " 'of',\n",
       " 'at',\n",
       " 'by',\n",
       " 'for',\n",
       " 'with',\n",
       " 'about',\n",
       " 'against',\n",
       " 'between',\n",
       " 'into',\n",
       " 'through',\n",
       " 'during',\n",
       " 'before',\n",
       " 'after',\n",
       " 'above',\n",
       " 'below',\n",
       " 'to',\n",
       " 'from',\n",
       " 'up',\n",
       " 'down',\n",
       " 'in',\n",
       " 'out',\n",
       " 'on',\n",
       " 'off',\n",
       " 'over',\n",
       " 'under',\n",
       " 'again',\n",
       " 'further',\n",
       " 'then',\n",
       " 'once',\n",
       " 'here',\n",
       " 'there',\n",
       " 'when',\n",
       " 'where',\n",
       " 'why',\n",
       " 'how',\n",
       " 'all',\n",
       " 'any',\n",
       " 'both',\n",
       " 'each',\n",
       " 'few',\n",
       " 'more',\n",
       " 'most',\n",
       " 'other',\n",
       " 'some',\n",
       " 'such',\n",
       " 'no',\n",
       " 'nor',\n",
       " 'not',\n",
       " 'only',\n",
       " 'own',\n",
       " 'same',\n",
       " 'so',\n",
       " 'than',\n",
       " 'too',\n",
       " 'very',\n",
       " 's',\n",
       " 't',\n",
       " 'can',\n",
       " 'will',\n",
       " 'just',\n",
       " 'don',\n",
       " \"don't\",\n",
       " 'should',\n",
       " \"should've\",\n",
       " 'now',\n",
       " 'd',\n",
       " 'll',\n",
       " 'm',\n",
       " 'o',\n",
       " 're',\n",
       " 've',\n",
       " 'y',\n",
       " 'ain',\n",
       " 'aren',\n",
       " \"aren't\",\n",
       " 'couldn',\n",
       " \"couldn't\",\n",
       " 'didn',\n",
       " \"didn't\",\n",
       " 'doesn',\n",
       " \"doesn't\",\n",
       " 'hadn',\n",
       " \"hadn't\",\n",
       " 'hasn',\n",
       " \"hasn't\",\n",
       " 'haven',\n",
       " \"haven't\",\n",
       " 'isn',\n",
       " \"isn't\",\n",
       " 'ma',\n",
       " 'mightn',\n",
       " \"mightn't\",\n",
       " 'mustn',\n",
       " \"mustn't\",\n",
       " 'needn',\n",
       " \"needn't\",\n",
       " 'shan',\n",
       " \"shan't\",\n",
       " 'shouldn',\n",
       " \"shouldn't\",\n",
       " 'wasn',\n",
       " \"wasn't\",\n",
       " 'weren',\n",
       " \"weren't\",\n",
       " 'won',\n",
       " \"won't\",\n",
       " 'wouldn',\n",
       " \"wouldn't\"]"
      ]
     },
     "execution_count": 36,
     "metadata": {},
     "output_type": "execute_result"
    }
   ],
   "source": [
    "stopwords.words(\"english\")"
   ]
  },
  {
   "cell_type": "code",
   "execution_count": 37,
   "id": "589c2c4f",
   "metadata": {},
   "outputs": [
    {
     "data": {
      "text/plain": [
       "179"
      ]
     },
     "execution_count": 37,
     "metadata": {},
     "output_type": "execute_result"
    }
   ],
   "source": [
    "len(stopwords.words('english'))"
   ]
  },
  {
   "cell_type": "markdown",
   "id": "4dde5743",
   "metadata": {},
   "source": [
    "**If you want to remove the special characters or digits.**"
   ]
  },
  {
   "cell_type": "code",
   "execution_count": 38,
   "id": "b441181d",
   "metadata": {},
   "outputs": [],
   "source": [
    "import re\n",
    "punctuation=re.compile(r'[-.?!,:;()|0-9]')"
   ]
  },
  {
   "cell_type": "code",
   "execution_count": 39,
   "id": "da93aebc",
   "metadata": {},
   "outputs": [],
   "source": [
    "post_punctuation=[]\n",
    "for words in swami_tokens:\n",
    "    word=punctuation.sub(\"\",words)\n",
    "    if len(word)>0:\n",
    "        post_punctuation.append(word)"
   ]
  },
  {
   "cell_type": "code",
   "execution_count": 40,
   "id": "f700441b",
   "metadata": {},
   "outputs": [
    {
     "data": {
      "text/plain": [
       "['Born',\n",
       " 'into',\n",
       " 'an',\n",
       " 'aristocratic',\n",
       " 'Bengali',\n",
       " 'Kayastha',\n",
       " 'family',\n",
       " 'of',\n",
       " 'Calcutta',\n",
       " 'Vivekananda',\n",
       " 'was',\n",
       " 'inclined',\n",
       " 'towards',\n",
       " 'spirituality',\n",
       " 'He',\n",
       " 'was',\n",
       " 'influenced',\n",
       " 'by',\n",
       " 'his',\n",
       " 'guru',\n",
       " 'Ramakrishna',\n",
       " 'from',\n",
       " 'whom',\n",
       " 'he',\n",
       " 'learnt',\n",
       " 'that',\n",
       " 'all',\n",
       " 'living',\n",
       " 'beings',\n",
       " 'were',\n",
       " 'an',\n",
       " 'embodiment',\n",
       " 'of',\n",
       " 'the',\n",
       " 'divine',\n",
       " 'self',\n",
       " 'therefore',\n",
       " 'service',\n",
       " 'to',\n",
       " 'God',\n",
       " 'could',\n",
       " 'be',\n",
       " 'rendered',\n",
       " 'by',\n",
       " 'service',\n",
       " 'to',\n",
       " 'humankind',\n",
       " 'After',\n",
       " 'Ramakrishna',\n",
       " \"'s\",\n",
       " 'death',\n",
       " 'Vivekananda',\n",
       " 'toured',\n",
       " 'the',\n",
       " 'Indian',\n",
       " 'subcontinent',\n",
       " 'extensively',\n",
       " 'and',\n",
       " 'acquired',\n",
       " 'firsthand',\n",
       " 'knowledge',\n",
       " 'of',\n",
       " 'the',\n",
       " 'conditions',\n",
       " 'prevailing',\n",
       " 'in',\n",
       " 'British',\n",
       " 'India',\n",
       " 'He',\n",
       " 'later',\n",
       " 'traveled',\n",
       " 'to',\n",
       " 'the',\n",
       " 'United',\n",
       " 'States',\n",
       " 'representing',\n",
       " 'India',\n",
       " 'at',\n",
       " 'the',\n",
       " 'Parliament',\n",
       " 'of',\n",
       " 'the',\n",
       " 'World',\n",
       " \"'s\",\n",
       " 'Religions',\n",
       " 'Vivekananda',\n",
       " 'conducted',\n",
       " 'hundreds',\n",
       " 'of',\n",
       " 'public',\n",
       " 'and',\n",
       " 'private',\n",
       " 'lectures',\n",
       " 'and',\n",
       " 'classes',\n",
       " 'disseminating',\n",
       " 'tenets',\n",
       " 'of',\n",
       " 'Hindu',\n",
       " 'philosophy',\n",
       " 'in',\n",
       " 'the',\n",
       " 'United',\n",
       " 'States',\n",
       " 'England',\n",
       " 'and',\n",
       " 'Europe',\n",
       " 'In',\n",
       " 'India',\n",
       " 'Vivekananda',\n",
       " 'is',\n",
       " 'regarded',\n",
       " 'as',\n",
       " 'a',\n",
       " 'patriotic',\n",
       " 'saint',\n",
       " 'and',\n",
       " 'his',\n",
       " 'birthday',\n",
       " 'is',\n",
       " 'celebrated',\n",
       " 'as',\n",
       " 'National',\n",
       " 'Youth',\n",
       " 'Day']"
      ]
     },
     "execution_count": 40,
     "metadata": {},
     "output_type": "execute_result"
    }
   ],
   "source": [
    "post_punctuation"
   ]
  },
  {
   "cell_type": "markdown",
   "id": "c9979dce",
   "metadata": {},
   "source": [
    "### Parts of Speech"
   ]
  },
  {
   "cell_type": "code",
   "execution_count": 41,
   "id": "7a36e716",
   "metadata": {},
   "outputs": [],
   "source": [
    "sent=\"Timothy is a natural when it comes to drawing\"\n",
    "sent_tokens=word_tokenize(sent)"
   ]
  },
  {
   "cell_type": "code",
   "execution_count": 42,
   "id": "c4b7430c",
   "metadata": {},
   "outputs": [
    {
     "name": "stdout",
     "output_type": "stream",
     "text": [
      "[('Timothy', 'NN')]\n",
      "[('is', 'VBZ')]\n",
      "[('a', 'DT')]\n",
      "[('natural', 'JJ')]\n",
      "[('when', 'WRB')]\n",
      "[('it', 'PRP')]\n",
      "[('comes', 'VBZ')]\n",
      "[('to', 'TO')]\n",
      "[('drawing', 'VBG')]\n"
     ]
    }
   ],
   "source": [
    "for token in sent_tokens:\n",
    "    print(nltk.pos_tag([token]))"
   ]
  },
  {
   "cell_type": "markdown",
   "id": "c5796184",
   "metadata": {},
   "source": [
    "### Named Entity Recognition"
   ]
  },
  {
   "cell_type": "code",
   "execution_count": 43,
   "id": "6a779b53",
   "metadata": {},
   "outputs": [],
   "source": [
    "from nltk import ne_chunk"
   ]
  },
  {
   "cell_type": "code",
   "execution_count": 44,
   "id": "4beb1331",
   "metadata": {},
   "outputs": [],
   "source": [
    "NE_sent=\"The US President stays in the WHITE HOUSE\""
   ]
  },
  {
   "cell_type": "code",
   "execution_count": 45,
   "id": "9a132852",
   "metadata": {},
   "outputs": [],
   "source": [
    "NE_tokens=word_tokenize(NE_sent)\n",
    "NE_tags=nltk.pos_tag(NE_tokens)"
   ]
  },
  {
   "cell_type": "code",
   "execution_count": 46,
   "id": "fe03f9a3",
   "metadata": {},
   "outputs": [
    {
     "name": "stdout",
     "output_type": "stream",
     "text": [
      "(S\n",
      "  The/DT\n",
      "  (ORGANIZATION US/NNP)\n",
      "  President/NNP\n",
      "  stays/VBZ\n",
      "  in/IN\n",
      "  the/DT\n",
      "  (FACILITY WHITE/NNP HOUSE/NNP))\n"
     ]
    }
   ],
   "source": [
    "NE_NER=ne_chunk(NE_tags)\n",
    "print(NE_NER)"
   ]
  },
  {
   "cell_type": "markdown",
   "id": "761549db",
   "metadata": {},
   "source": [
    "### Chunking\n",
    "- Picking up **individual** pieces and **grouping** them into bigger pieces."
   ]
  },
  {
   "cell_type": "code",
   "execution_count": 47,
   "id": "3bac17b0",
   "metadata": {},
   "outputs": [
    {
     "data": {
      "text/plain": [
       "[('The', 'DT'),\n",
       " ('big', 'JJ'),\n",
       " ('cat', 'NN'),\n",
       " ('ate', 'VBD'),\n",
       " ('the', 'DT'),\n",
       " ('little', 'JJ'),\n",
       " ('mouse', 'NN'),\n",
       " ('who', 'WP'),\n",
       " ('was', 'VBD'),\n",
       " ('after', 'IN'),\n",
       " ('fresh', 'JJ'),\n",
       " ('cheese', 'NN')]"
      ]
     },
     "execution_count": 47,
     "metadata": {},
     "output_type": "execute_result"
    }
   ],
   "source": [
    "new = \"The big cat ate the little mouse who was after fresh cheese\"\n",
    "new_tokens=nltk.pos_tag(word_tokenize(new))\n",
    "new_tokens"
   ]
  },
  {
   "cell_type": "code",
   "execution_count": 48,
   "id": "306b4582",
   "metadata": {},
   "outputs": [],
   "source": [
    "grammar_np = r\"NP: {<DT>?<JJ>*<NN>}\""
   ]
  },
  {
   "cell_type": "code",
   "execution_count": 49,
   "id": "efb30249",
   "metadata": {},
   "outputs": [],
   "source": [
    "chunk_parser = nltk.RegexpParser(grammar_np)"
   ]
  },
  {
   "cell_type": "code",
   "execution_count": 50,
   "id": "14f642f3",
   "metadata": {},
   "outputs": [
    {
     "name": "stderr",
     "output_type": "stream",
     "text": [
      "The Ghostscript executable isn't found.\n",
      "See http://web.mit.edu/ghostscript/www/Install.htm\n",
      "If you're using a Mac, you can try installing\n",
      "https://docs.brew.sh/Installation then `brew install ghostscript`\n"
     ]
    },
    {
     "ename": "LookupError",
     "evalue": "",
     "output_type": "error",
     "traceback": [
      "\u001b[0;31m---------------------------------------------------------------------------\u001b[0m",
      "\u001b[0;31mLookupError\u001b[0m                               Traceback (most recent call last)",
      "\u001b[0;32m~/opt/anaconda3/lib/python3.9/site-packages/nltk/tree.py\u001b[0m in \u001b[0;36m_repr_png_\u001b[0;34m(self)\u001b[0m\n\u001b[1;32m    813\u001b[0m                     [\n\u001b[0;32m--> 814\u001b[0;31m                         find_binary(\n\u001b[0m\u001b[1;32m    815\u001b[0m                             \u001b[0;34m\"gs\"\u001b[0m\u001b[0;34m,\u001b[0m\u001b[0;34m\u001b[0m\u001b[0;34m\u001b[0m\u001b[0m\n",
      "\u001b[0;32m~/opt/anaconda3/lib/python3.9/site-packages/nltk/internals.py\u001b[0m in \u001b[0;36mfind_binary\u001b[0;34m(name, path_to_bin, env_vars, searchpath, binary_names, url, verbose)\u001b[0m\n\u001b[1;32m    686\u001b[0m ):\n\u001b[0;32m--> 687\u001b[0;31m     return next(\n\u001b[0m\u001b[1;32m    688\u001b[0m         find_binary_iter(\n",
      "\u001b[0;32m~/opt/anaconda3/lib/python3.9/site-packages/nltk/internals.py\u001b[0m in \u001b[0;36mfind_binary_iter\u001b[0;34m(name, path_to_bin, env_vars, searchpath, binary_names, url, verbose)\u001b[0m\n\u001b[1;32m    672\u001b[0m     \"\"\"\n\u001b[0;32m--> 673\u001b[0;31m     yield from find_file_iter(\n\u001b[0m\u001b[1;32m    674\u001b[0m         \u001b[0mpath_to_bin\u001b[0m \u001b[0;32mor\u001b[0m \u001b[0mname\u001b[0m\u001b[0;34m,\u001b[0m \u001b[0menv_vars\u001b[0m\u001b[0;34m,\u001b[0m \u001b[0msearchpath\u001b[0m\u001b[0;34m,\u001b[0m \u001b[0mbinary_names\u001b[0m\u001b[0;34m,\u001b[0m \u001b[0murl\u001b[0m\u001b[0;34m,\u001b[0m \u001b[0mverbose\u001b[0m\u001b[0;34m\u001b[0m\u001b[0;34m\u001b[0m\u001b[0m\n",
      "\u001b[0;32m~/opt/anaconda3/lib/python3.9/site-packages/nltk/internals.py\u001b[0m in \u001b[0;36mfind_file_iter\u001b[0;34m(filename, env_vars, searchpath, file_names, url, verbose, finding_dir)\u001b[0m\n\u001b[1;32m    631\u001b[0m         \u001b[0mdiv\u001b[0m \u001b[0;34m=\u001b[0m \u001b[0;34m\"=\"\u001b[0m \u001b[0;34m*\u001b[0m \u001b[0;36m75\u001b[0m\u001b[0;34m\u001b[0m\u001b[0;34m\u001b[0m\u001b[0m\n\u001b[0;32m--> 632\u001b[0;31m         \u001b[0;32mraise\u001b[0m \u001b[0mLookupError\u001b[0m\u001b[0;34m(\u001b[0m\u001b[0;34mf\"\\n\\n{div}\\n{msg}\\n{div}\"\u001b[0m\u001b[0;34m)\u001b[0m\u001b[0;34m\u001b[0m\u001b[0;34m\u001b[0m\u001b[0m\n\u001b[0m\u001b[1;32m    633\u001b[0m \u001b[0;34m\u001b[0m\u001b[0m\n",
      "\u001b[0;31mLookupError\u001b[0m: \n\n===========================================================================\nNLTK was unable to find the gs file!\nUse software specific configuration parameters or set the PATH environment variable.\n===========================================================================",
      "\nThe above exception was the direct cause of the following exception:\n",
      "\u001b[0;31mLookupError\u001b[0m                               Traceback (most recent call last)",
      "\u001b[0;32m~/opt/anaconda3/lib/python3.9/site-packages/IPython/core/formatters.py\u001b[0m in \u001b[0;36m__call__\u001b[0;34m(self, obj)\u001b[0m\n\u001b[1;32m    343\u001b[0m             \u001b[0mmethod\u001b[0m \u001b[0;34m=\u001b[0m \u001b[0mget_real_method\u001b[0m\u001b[0;34m(\u001b[0m\u001b[0mobj\u001b[0m\u001b[0;34m,\u001b[0m \u001b[0mself\u001b[0m\u001b[0;34m.\u001b[0m\u001b[0mprint_method\u001b[0m\u001b[0;34m)\u001b[0m\u001b[0;34m\u001b[0m\u001b[0;34m\u001b[0m\u001b[0m\n\u001b[1;32m    344\u001b[0m             \u001b[0;32mif\u001b[0m \u001b[0mmethod\u001b[0m \u001b[0;32mis\u001b[0m \u001b[0;32mnot\u001b[0m \u001b[0;32mNone\u001b[0m\u001b[0;34m:\u001b[0m\u001b[0;34m\u001b[0m\u001b[0;34m\u001b[0m\u001b[0m\n\u001b[0;32m--> 345\u001b[0;31m                 \u001b[0;32mreturn\u001b[0m \u001b[0mmethod\u001b[0m\u001b[0;34m(\u001b[0m\u001b[0;34m)\u001b[0m\u001b[0;34m\u001b[0m\u001b[0;34m\u001b[0m\u001b[0m\n\u001b[0m\u001b[1;32m    346\u001b[0m             \u001b[0;32mreturn\u001b[0m \u001b[0;32mNone\u001b[0m\u001b[0;34m\u001b[0m\u001b[0;34m\u001b[0m\u001b[0m\n\u001b[1;32m    347\u001b[0m         \u001b[0;32melse\u001b[0m\u001b[0;34m:\u001b[0m\u001b[0;34m\u001b[0m\u001b[0;34m\u001b[0m\u001b[0m\n",
      "\u001b[0;32m~/opt/anaconda3/lib/python3.9/site-packages/nltk/tree.py\u001b[0m in \u001b[0;36m_repr_png_\u001b[0;34m(self)\u001b[0m\n\u001b[1;32m    831\u001b[0m                 )\n\u001b[1;32m    832\u001b[0m                 \u001b[0mprint\u001b[0m\u001b[0;34m(\u001b[0m\u001b[0mpre_error_message\u001b[0m\u001b[0;34m,\u001b[0m \u001b[0mfile\u001b[0m\u001b[0;34m=\u001b[0m\u001b[0msys\u001b[0m\u001b[0;34m.\u001b[0m\u001b[0mstderr\u001b[0m\u001b[0;34m)\u001b[0m\u001b[0;34m\u001b[0m\u001b[0;34m\u001b[0m\u001b[0m\n\u001b[0;32m--> 833\u001b[0;31m                 \u001b[0;32mraise\u001b[0m \u001b[0mLookupError\u001b[0m \u001b[0;32mfrom\u001b[0m \u001b[0me\u001b[0m\u001b[0;34m\u001b[0m\u001b[0;34m\u001b[0m\u001b[0m\n\u001b[0m\u001b[1;32m    834\u001b[0m \u001b[0;34m\u001b[0m\u001b[0m\n\u001b[1;32m    835\u001b[0m             \u001b[0;32mwith\u001b[0m \u001b[0mopen\u001b[0m\u001b[0;34m(\u001b[0m\u001b[0mout_path\u001b[0m\u001b[0;34m,\u001b[0m \u001b[0;34m\"rb\"\u001b[0m\u001b[0;34m)\u001b[0m \u001b[0;32mas\u001b[0m \u001b[0msr\u001b[0m\u001b[0;34m:\u001b[0m\u001b[0;34m\u001b[0m\u001b[0;34m\u001b[0m\u001b[0m\n",
      "\u001b[0;31mLookupError\u001b[0m: "
     ]
    },
    {
     "data": {
      "text/plain": [
       "Tree('S', [Tree('NP', [('The', 'DT'), ('big', 'JJ'), ('cat', 'NN')]), ('ate', 'VBD'), Tree('NP', [('the', 'DT'), ('little', 'JJ'), ('mouse', 'NN')]), ('who', 'WP'), ('was', 'VBD'), ('after', 'IN'), Tree('NP', [('fresh', 'JJ'), ('cheese', 'NN')])])"
      ]
     },
     "execution_count": 50,
     "metadata": {},
     "output_type": "execute_result"
    }
   ],
   "source": [
    "chunk_result = chunk_parser.parse(new_tokens)\n",
    "chunk_result"
   ]
  },
  {
   "cell_type": "markdown",
   "id": "a9c5ad28",
   "metadata": {},
   "source": []
  }
 ],
 "metadata": {
  "kernelspec": {
   "display_name": "Python 3 (ipykernel)",
   "language": "python",
   "name": "python3"
  },
  "language_info": {
   "codemirror_mode": {
    "name": "ipython",
    "version": 3
   },
   "file_extension": ".py",
   "mimetype": "text/x-python",
   "name": "python",
   "nbconvert_exporter": "python",
   "pygments_lexer": "ipython3",
   "version": "3.9.7"
  }
 },
 "nbformat": 4,
 "nbformat_minor": 5
}
