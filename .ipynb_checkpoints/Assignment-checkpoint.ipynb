{
 "cells": [
  {
   "cell_type": "markdown",
   "id": "5ea22f6b",
   "metadata": {},
   "source": [
    "1. Consider an example to find the similarity between two vectors – ‘x’ and ‘y’, using Cosine Similarity.\n",
    "- The ‘x’ vector has values, x = { 3, 2, 0, 5 }\n",
    "- The ‘y’ vector has values, y = { 1, 0, 0, 0 }\n",
    "- Design a program to compute the similarity between x and y "
   ]
  },
  {
   "cell_type": "code",
   "execution_count": 2,
   "id": "ad9fd42e",
   "metadata": {},
   "outputs": [
    {
     "name": "stdout",
     "output_type": "stream",
     "text": [
      "A: [3 2 0 5]\n",
      "B: [1 0 0 0]\n",
      "Cosine Similarity: 0.48666426339228763\n"
     ]
    }
   ],
   "source": [
    "import numpy as np\n",
    "from numpy.linalg import norm\n",
    " \n",
    "# define two lists or array\n",
    "A = np.array([3,2,0,5])\n",
    "B = np.array([1,0,0,0])\n",
    " \n",
    "print(\"A:\", A)\n",
    "print(\"B:\", B)\n",
    " \n",
    "# compute cosine similarity\n",
    "cosine = np.dot(A,B)/(norm(A)*norm(B))\n",
    "print(\"Cosine Similarity:\", cosine)"
   ]
  },
  {
   "cell_type": "markdown",
   "id": "82b8ef78",
   "metadata": {},
   "source": [
    "2. Consider two sets A = (0,1,2,5,6) and B = (0, 2,3, 5, 7,9).\n",
    "- How similar are A and B?\n",
    "- Design a program to compute the similarity using Jaccard similarity."
   ]
  },
  {
   "cell_type": "code",
   "execution_count": 8,
   "id": "f8989473",
   "metadata": {},
   "outputs": [
    {
     "name": "stdout",
     "output_type": "stream",
     "text": [
      "Similarity between A and B is 0.375\n"
     ]
    }
   ],
   "source": [
    "import numpy as np\n",
    "\n",
    "def jaccard_set(list1, list2):\n",
    "    \"\"\"Define Jaccard Similarity function for two sets\"\"\"\n",
    "    intersection = len(list(set(list1).intersection(list2)))\n",
    "    union = (len(list1) + len(list2)) - intersection\n",
    "    return float(intersection) / union\n",
    "\n",
    "# Define some binary vectors\n",
    "A=[0,1,2,5,6]\n",
    "B=[0,2,3,5,7,9]\n",
    "\n",
    "# Find similarity among the vectors\n",
    "simAB=jaccard_set(A,B)\n",
    "print(\"Similarity between A and B is\", simAB)"
   ]
  },
  {
   "cell_type": "markdown",
   "id": "a5854507",
   "metadata": {},
   "source": [
    "3. Consider Three documents:\n",
    "- d1:“Jack London traveled to Oakland”\n",
    "- d2: “Jack London traveled to the city of Oakland” \n",
    "- d3: “Jack traveled from Oakland to London”\n",
    "- **Based on shingles of size 2 (2-grams or bigrams), what are the Jaccard coefficients J(d1, d2) and J(d1, d3)?**"
   ]
  },
  {
   "cell_type": "code",
   "execution_count": null,
   "id": "9b385a80",
   "metadata": {},
   "outputs": [],
   "source": []
  }
 ],
 "metadata": {
  "kernelspec": {
   "display_name": "Python 3 (ipykernel)",
   "language": "python",
   "name": "python3"
  },
  "language_info": {
   "codemirror_mode": {
    "name": "ipython",
    "version": 3
   },
   "file_extension": ".py",
   "mimetype": "text/x-python",
   "name": "python",
   "nbconvert_exporter": "python",
   "pygments_lexer": "ipython3",
   "version": "3.9.7"
  }
 },
 "nbformat": 4,
 "nbformat_minor": 5
}
